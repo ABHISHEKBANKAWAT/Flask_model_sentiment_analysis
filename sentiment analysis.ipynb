{
 "cells": [
  {
   "cell_type": "markdown",
   "id": "c1e89ea9",
   "metadata": {},
   "source": [
    " <h1> Twitter Sentiment Analysis </h1>\n",
    " This notebook is used for creating a simple Logistic regression Model meant for  classifying the tweets or texts either as a negative statement or a postitive statement. The result is either 0 or 1. \n",
    " "
   ]
  },
  {
   "cell_type": "markdown",
   "id": "ab30dede",
   "metadata": {},
   "source": [
    "Importing the necessary libraries  \n"
   ]
  },
  {
   "cell_type": "code",
   "execution_count": 209,
   "id": "40a72901",
   "metadata": {},
   "outputs": [],
   "source": [
    "import pandas as pd \n",
    "import numpy as np \n",
    "import re \n",
    "import nltk \n",
    "from nltk.corpus import stopwords \n",
    "from sklearn.feature_extraction.text import ENGLISH_STOP_WORDS\n",
    "from nltk.stem import WordNetLemmatizer\n",
    "import matplotlib.pyplot as plt \n",
    "from sklearn.feature_extraction.text import CountVectorizer \n",
    "from sklearn.model_selection import train_test_split\n",
    "from sklearn.linear_model import LogisticRegression \n",
    "#from sklearn.model_selection import cross_val_score_val, cross_validate\n",
    "from sklearn.model_selection import StratifiedKFold \n",
    "from sklearn.model_selection import GridSearchCV\n",
    "import contractions\n",
    "pd.set_option('display.max_rows', 500)\n",
    "pd.set_option('display.max_columns', 500)\n",
    "pd.set_option('display.width', 1000)"
   ]
  },
  {
   "cell_type": "markdown",
   "id": "c3c8a6dd",
   "metadata": {},
   "source": [
    "Reading the data stored in csv format."
   ]
  },
  {
   "cell_type": "code",
   "execution_count": 210,
   "id": "1df7285f",
   "metadata": {},
   "outputs": [
    {
     "data": {
      "text/html": [
       "<div>\n",
       "<style scoped>\n",
       "    .dataframe tbody tr th:only-of-type {\n",
       "        vertical-align: middle;\n",
       "    }\n",
       "\n",
       "    .dataframe tbody tr th {\n",
       "        vertical-align: top;\n",
       "    }\n",
       "\n",
       "    .dataframe thead th {\n",
       "        text-align: right;\n",
       "    }\n",
       "</style>\n",
       "<table border=\"1\" class=\"dataframe\">\n",
       "  <thead>\n",
       "    <tr style=\"text-align: right;\">\n",
       "      <th></th>\n",
       "      <th>id</th>\n",
       "      <th>tweet</th>\n",
       "      <th>label</th>\n",
       "    </tr>\n",
       "  </thead>\n",
       "  <tbody>\n",
       "    <tr>\n",
       "      <th>7915</th>\n",
       "      <td>7916</td>\n",
       "      <td>Live out loud #lol #liveoutloud #selfie #smile...</td>\n",
       "      <td>1</td>\n",
       "    </tr>\n",
       "    <tr>\n",
       "      <th>7916</th>\n",
       "      <td>7917</td>\n",
       "      <td>We would like to wish you an amazing day! Make...</td>\n",
       "      <td>1</td>\n",
       "    </tr>\n",
       "    <tr>\n",
       "      <th>7917</th>\n",
       "      <td>7918</td>\n",
       "      <td>Helping my lovely 90 year old neighbor with he...</td>\n",
       "      <td>1</td>\n",
       "    </tr>\n",
       "    <tr>\n",
       "      <th>7918</th>\n",
       "      <td>7919</td>\n",
       "      <td>Finally got my #smart #pocket #wifi stay conne...</td>\n",
       "      <td>1</td>\n",
       "    </tr>\n",
       "    <tr>\n",
       "      <th>7919</th>\n",
       "      <td>7920</td>\n",
       "      <td>Apple Barcelona!!! #Apple #Store #BCN #Barcelo...</td>\n",
       "      <td>1</td>\n",
       "    </tr>\n",
       "  </tbody>\n",
       "</table>\n",
       "</div>"
      ],
      "text/plain": [
       "        id                                              tweet  label\n",
       "7915  7916  Live out loud #lol #liveoutloud #selfie #smile...      1\n",
       "7916  7917  We would like to wish you an amazing day! Make...      1\n",
       "7917  7918  Helping my lovely 90 year old neighbor with he...      1\n",
       "7918  7919  Finally got my #smart #pocket #wifi stay conne...      1\n",
       "7919  7920  Apple Barcelona!!! #Apple #Store #BCN #Barcelo...      1"
      ]
     },
     "execution_count": 210,
     "metadata": {},
     "output_type": "execute_result"
    }
   ],
   "source": [
    "data = pd.read_csv('tweets.csv')\n",
    "data.tail()"
   ]
  },
  {
   "cell_type": "code",
   "execution_count": 211,
   "id": "b7c775c8",
   "metadata": {},
   "outputs": [
    {
     "data": {
      "text/html": [
       "<div>\n",
       "<style scoped>\n",
       "    .dataframe tbody tr th:only-of-type {\n",
       "        vertical-align: middle;\n",
       "    }\n",
       "\n",
       "    .dataframe tbody tr th {\n",
       "        vertical-align: top;\n",
       "    }\n",
       "\n",
       "    .dataframe thead th {\n",
       "        text-align: right;\n",
       "    }\n",
       "</style>\n",
       "<table border=\"1\" class=\"dataframe\">\n",
       "  <thead>\n",
       "    <tr style=\"text-align: right;\">\n",
       "      <th></th>\n",
       "      <th>id</th>\n",
       "      <th>tweet</th>\n",
       "      <th>label</th>\n",
       "    </tr>\n",
       "  </thead>\n",
       "  <tbody>\n",
       "    <tr>\n",
       "      <th>0</th>\n",
       "      <td>1</td>\n",
       "      <td>#fingerprint #Pregnancy Test https://goo.gl/h1...</td>\n",
       "      <td>1</td>\n",
       "    </tr>\n",
       "    <tr>\n",
       "      <th>1</th>\n",
       "      <td>2</td>\n",
       "      <td>Finally a transparant silicon case ^^ Thanks t...</td>\n",
       "      <td>1</td>\n",
       "    </tr>\n",
       "    <tr>\n",
       "      <th>2</th>\n",
       "      <td>3</td>\n",
       "      <td>We love this! Would you go? #talk #makememorie...</td>\n",
       "      <td>1</td>\n",
       "    </tr>\n",
       "    <tr>\n",
       "      <th>3</th>\n",
       "      <td>4</td>\n",
       "      <td>I'm wired I know I'm George I was made that wa...</td>\n",
       "      <td>1</td>\n",
       "    </tr>\n",
       "    <tr>\n",
       "      <th>4</th>\n",
       "      <td>5</td>\n",
       "      <td>What amazing service! Apple won't even talk to...</td>\n",
       "      <td>0</td>\n",
       "    </tr>\n",
       "  </tbody>\n",
       "</table>\n",
       "</div>"
      ],
      "text/plain": [
       "   id                                              tweet  label\n",
       "0   1  #fingerprint #Pregnancy Test https://goo.gl/h1...      1\n",
       "1   2  Finally a transparant silicon case ^^ Thanks t...      1\n",
       "2   3  We love this! Would you go? #talk #makememorie...      1\n",
       "3   4  I'm wired I know I'm George I was made that wa...      1\n",
       "4   5  What amazing service! Apple won't even talk to...      0"
      ]
     },
     "execution_count": 211,
     "metadata": {},
     "output_type": "execute_result"
    }
   ],
   "source": [
    "data.head()"
   ]
  },
  {
   "cell_type": "code",
   "execution_count": 246,
   "id": "fe91ce9b",
   "metadata": {},
   "outputs": [
    {
     "data": {
      "text/plain": [
       "(7920, 3)"
      ]
     },
     "execution_count": 246,
     "metadata": {},
     "output_type": "execute_result"
    }
   ],
   "source": [
    "data.shape"
   ]
  },
  {
   "cell_type": "code",
   "execution_count": 247,
   "id": "623c811f",
   "metadata": {},
   "outputs": [
    {
     "name": "stdout",
     "output_type": "stream",
     "text": [
      "<class 'pandas.core.frame.DataFrame'>\n",
      "RangeIndex: 7920 entries, 0 to 7919\n",
      "Data columns (total 3 columns):\n",
      " #   Column  Non-Null Count  Dtype \n",
      "---  ------  --------------  ----- \n",
      " 0   id      7920 non-null   int64 \n",
      " 1   tweet   7920 non-null   object\n",
      " 2   label   7920 non-null   int64 \n",
      "dtypes: int64(2), object(1)\n",
      "memory usage: 185.8+ KB\n"
     ]
    }
   ],
   "source": [
    "data.info()"
   ]
  },
  {
   "cell_type": "code",
   "execution_count": 245,
   "id": "277be8de",
   "metadata": {},
   "outputs": [
    {
     "data": {
      "text/plain": [
       "label\n",
       "1    5894\n",
       "0    2026\n",
       "Name: count, dtype: int64"
      ]
     },
     "execution_count": 245,
     "metadata": {},
     "output_type": "execute_result"
    }
   ],
   "source": [
    "data.label.value_counts() #understanding label distribution"
   ]
  },
  {
   "cell_type": "code",
   "execution_count": 215,
   "id": "6fac05c5",
   "metadata": {},
   "outputs": [],
   "source": [
    "df = data[['tweet' , 'label']] #"
   ]
  },
  {
   "cell_type": "code",
   "execution_count": 248,
   "id": "7189a686",
   "metadata": {
    "scrolled": false
   },
   "outputs": [
    {
     "data": {
      "text/html": [
       "<div>\n",
       "<style scoped>\n",
       "    .dataframe tbody tr th:only-of-type {\n",
       "        vertical-align: middle;\n",
       "    }\n",
       "\n",
       "    .dataframe tbody tr th {\n",
       "        vertical-align: top;\n",
       "    }\n",
       "\n",
       "    .dataframe thead th {\n",
       "        text-align: right;\n",
       "    }\n",
       "</style>\n",
       "<table border=\"1\" class=\"dataframe\">\n",
       "  <thead>\n",
       "    <tr style=\"text-align: right;\">\n",
       "      <th></th>\n",
       "      <th>tweet</th>\n",
       "      <th>label</th>\n",
       "      <th>tweets_without_stop_words</th>\n",
       "    </tr>\n",
       "  </thead>\n",
       "  <tbody>\n",
       "    <tr>\n",
       "      <th>0</th>\n",
       "      <td>#fingerprint #Pregnancy Test https://goo.gl/h1...</td>\n",
       "      <td>1</td>\n",
       "      <td>fingerprint pregnancy test android apps beauti...</td>\n",
       "    </tr>\n",
       "    <tr>\n",
       "      <th>1</th>\n",
       "      <td>Finally a transparant silicon case ^^ Thanks t...</td>\n",
       "      <td>1</td>\n",
       "      <td>finally a transparant silicon case thanks to m...</td>\n",
       "    </tr>\n",
       "  </tbody>\n",
       "</table>\n",
       "</div>"
      ],
      "text/plain": [
       "                                               tweet  label                          tweets_without_stop_words\n",
       "0  #fingerprint #Pregnancy Test https://goo.gl/h1...      1  fingerprint pregnancy test android apps beauti...\n",
       "1  Finally a transparant silicon case ^^ Thanks t...      1  finally a transparant silicon case thanks to m..."
      ]
     },
     "execution_count": 248,
     "metadata": {},
     "output_type": "execute_result"
    }
   ],
   "source": [
    "df.head(2)"
   ]
  },
  {
   "cell_type": "code",
   "execution_count": 217,
   "id": "617e09d1",
   "metadata": {},
   "outputs": [],
   "source": [
    "# Stop words Removal\n",
    "import nltk\n",
    "from nltk.corpus import stopwords"
   ]
  },
  {
   "cell_type": "code",
   "execution_count": 221,
   "id": "76c73edd",
   "metadata": {},
   "outputs": [],
   "source": [
    "combined_stopwords = nltk_stopwords.union(sklearn_stopwords)\n"
   ]
  },
  {
   "cell_type": "code",
   "execution_count": 222,
   "id": "75bd9a3e",
   "metadata": {},
   "outputs": [],
   "source": [
    "\n",
    "domain_stopwords = ['phone', 'mobile', 'twitter', 'rt', 'com', 'follow']\n",
    "final_stopwords = domain_stopwords + list(combined_stopwords)"
   ]
  },
  {
   "cell_type": "code",
   "execution_count": null,
   "id": "3aa208c9",
   "metadata": {},
   "outputs": [],
   "source": []
  },
  {
   "cell_type": "code",
   "execution_count": 249,
   "id": "925669ef",
   "metadata": {},
   "outputs": [],
   "source": [
    "########################## function to clean the tweets#######################\n",
    "\n",
    "# we are keeping the stop words as well#\n",
    "from nltk.stem import WordNetLemmatizer\n",
    "lemmatizer = WordNetLemmatizer()\n",
    "def tweet_cleaner_without_stopwords(text):\n",
    "    new_text = re.sub(r\"'s\\b\", \" is\", text)\n",
    "    new_text = re.sub(\"#\", \"\", new_text)\n",
    "    new_text = re.sub(\"@[A-Za-z0-9]+\", \"\", new_text)\n",
    "    new_text = re.sub(r\"http\\S+\", \"\", new_text)\n",
    "    new_text = contractions.fix(new_text)    \n",
    "    new_text = re.sub(r\"[^a-zA-Z]\", \" \", new_text)    \n",
    "    new_text = new_text.lower().strip()\n",
    "    \n",
    "    \n",
    "    ###########if you want to remove stopwords and experiment, uncomment these two lines ####\n",
    "    #     new_text = [token for token in new_text.split() if token not in combined_stopwords]\n",
    "    \n",
    "    #     new_text = [token for token in new_text if len(token)>2]\n",
    "    ###############\n",
    "    cleaned_text = ''\n",
    "    for token in new_text.split():\n",
    "        cleaned_text = cleaned_text + lemmatizer.lemmatize(token) + ' '\n",
    "    \n",
    "    return cleaned_text"
   ]
  },
  {
   "cell_type": "code",
   "execution_count": 250,
   "id": "90f5d258",
   "metadata": {},
   "outputs": [],
   "source": [
    "df['tweets_without_stop_words'] = df['tweet'].apply(tweet_cleaner_without_stopwords)"
   ]
  },
  {
   "cell_type": "code",
   "execution_count": 256,
   "id": "94027530",
   "metadata": {},
   "outputs": [
    {
     "data": {
      "text/html": [
       "<div>\n",
       "<style scoped>\n",
       "    .dataframe tbody tr th:only-of-type {\n",
       "        vertical-align: middle;\n",
       "    }\n",
       "\n",
       "    .dataframe tbody tr th {\n",
       "        vertical-align: top;\n",
       "    }\n",
       "\n",
       "    .dataframe thead th {\n",
       "        text-align: right;\n",
       "    }\n",
       "</style>\n",
       "<table border=\"1\" class=\"dataframe\">\n",
       "  <thead>\n",
       "    <tr style=\"text-align: right;\">\n",
       "      <th></th>\n",
       "      <th>tweet</th>\n",
       "      <th>tweets_without_stop_words</th>\n",
       "      <th>label</th>\n",
       "    </tr>\n",
       "  </thead>\n",
       "  <tbody>\n",
       "    <tr>\n",
       "      <th>0</th>\n",
       "      <td>#fingerprint #Pregnancy Test https://goo.gl/h1...</td>\n",
       "      <td>fingerprint pregnancy test android apps beauti...</td>\n",
       "      <td>1</td>\n",
       "    </tr>\n",
       "    <tr>\n",
       "      <th>1</th>\n",
       "      <td>Finally a transparant silicon case ^^ Thanks t...</td>\n",
       "      <td>finally a transparant silicon case thanks to m...</td>\n",
       "      <td>1</td>\n",
       "    </tr>\n",
       "    <tr>\n",
       "      <th>2</th>\n",
       "      <td>We love this! Would you go? #talk #makememorie...</td>\n",
       "      <td>we love this would you go talk makememories un...</td>\n",
       "      <td>1</td>\n",
       "    </tr>\n",
       "    <tr>\n",
       "      <th>3</th>\n",
       "      <td>I'm wired I know I'm George I was made that wa...</td>\n",
       "      <td>i am wired i know i am george i wa made that w...</td>\n",
       "      <td>1</td>\n",
       "    </tr>\n",
       "    <tr>\n",
       "      <th>4</th>\n",
       "      <td>What amazing service! Apple won't even talk to...</td>\n",
       "      <td>what amazing service apple will not even talk ...</td>\n",
       "      <td>0</td>\n",
       "    </tr>\n",
       "  </tbody>\n",
       "</table>\n",
       "</div>"
      ],
      "text/plain": [
       "                                               tweet                          tweets_without_stop_words  label\n",
       "0  #fingerprint #Pregnancy Test https://goo.gl/h1...  fingerprint pregnancy test android apps beauti...      1\n",
       "1  Finally a transparant silicon case ^^ Thanks t...  finally a transparant silicon case thanks to m...      1\n",
       "2  We love this! Would you go? #talk #makememorie...  we love this would you go talk makememories un...      1\n",
       "3  I'm wired I know I'm George I was made that wa...  i am wired i know i am george i wa made that w...      1\n",
       "4  What amazing service! Apple won't even talk to...  what amazing service apple will not even talk ...      0"
      ]
     },
     "execution_count": 256,
     "metadata": {},
     "output_type": "execute_result"
    }
   ],
   "source": [
    "df[['tweet',\"tweets_without_stop_words\", 'label']].head()"
   ]
  },
  {
   "cell_type": "markdown",
   "id": "f00e45e6",
   "metadata": {},
   "source": [
    "Examplar Label and its respective tweet "
   ]
  },
  {
   "cell_type": "code",
   "execution_count": 257,
   "id": "059328d6",
   "metadata": {
    "scrolled": true
   },
   "outputs": [
    {
     "data": {
      "text/plain": [
       "0"
      ]
     },
     "execution_count": 257,
     "metadata": {},
     "output_type": "execute_result"
    }
   ],
   "source": [
    "df[\"label\"][1224]"
   ]
  },
  {
   "cell_type": "code",
   "execution_count": 258,
   "id": "8a1feda5",
   "metadata": {},
   "outputs": [
    {
     "data": {
      "text/plain": [
       "'what is next apple do we have to write our apps in machine code will the only supported keyboard be the iphone is one '"
      ]
     },
     "execution_count": 258,
     "metadata": {},
     "output_type": "execute_result"
    }
   ],
   "source": [
    "df[\"tweets_without_stop_words\"][1224]"
   ]
  },
  {
   "cell_type": "code",
   "execution_count": 259,
   "id": "04bab46e",
   "metadata": {},
   "outputs": [
    {
     "data": {
      "text/html": [
       "<div>\n",
       "<style scoped>\n",
       "    .dataframe tbody tr th:only-of-type {\n",
       "        vertical-align: middle;\n",
       "    }\n",
       "\n",
       "    .dataframe tbody tr th {\n",
       "        vertical-align: top;\n",
       "    }\n",
       "\n",
       "    .dataframe thead th {\n",
       "        text-align: right;\n",
       "    }\n",
       "</style>\n",
       "<table border=\"1\" class=\"dataframe\">\n",
       "  <thead>\n",
       "    <tr style=\"text-align: right;\">\n",
       "      <th></th>\n",
       "      <th>tweet</th>\n",
       "      <th>label</th>\n",
       "      <th>tweets_without_stop_words</th>\n",
       "    </tr>\n",
       "  </thead>\n",
       "  <tbody>\n",
       "    <tr>\n",
       "      <th>0</th>\n",
       "      <td>#fingerprint #Pregnancy Test https://goo.gl/h1...</td>\n",
       "      <td>1</td>\n",
       "      <td>fingerprint pregnancy test android apps beauti...</td>\n",
       "    </tr>\n",
       "    <tr>\n",
       "      <th>1</th>\n",
       "      <td>Finally a transparant silicon case ^^ Thanks t...</td>\n",
       "      <td>1</td>\n",
       "      <td>finally a transparant silicon case thanks to m...</td>\n",
       "    </tr>\n",
       "  </tbody>\n",
       "</table>\n",
       "</div>"
      ],
      "text/plain": [
       "                                               tweet  label                          tweets_without_stop_words\n",
       "0  #fingerprint #Pregnancy Test https://goo.gl/h1...      1  fingerprint pregnancy test android apps beauti...\n",
       "1  Finally a transparant silicon case ^^ Thanks t...      1  finally a transparant silicon case thanks to m..."
      ]
     },
     "execution_count": 259,
     "metadata": {},
     "output_type": "execute_result"
    }
   ],
   "source": [
    "df.head(2)"
   ]
  },
  {
   "cell_type": "code",
   "execution_count": 260,
   "id": "58a0d89a",
   "metadata": {},
   "outputs": [
    {
     "data": {
      "text/plain": [
       "'Contemplating giving in to the iPhone bandwagon simply because #Cellcom has no new Androids #depressing #IDontWantTo'"
      ]
     },
     "execution_count": 260,
     "metadata": {},
     "output_type": "execute_result"
    }
   ],
   "source": [
    "df.tweet[12]#raw tweet "
   ]
  },
  {
   "cell_type": "code",
   "execution_count": 230,
   "id": "a845e33e",
   "metadata": {},
   "outputs": [
    {
     "data": {
      "text/plain": [
       "'contemplating giving in to the iphone bandwagon simply because cellcom ha no new android depressing idontwantto '"
      ]
     },
     "execution_count": 230,
     "metadata": {},
     "output_type": "execute_result"
    }
   ],
   "source": [
    "df.tweets_without_stop_words[12] #cleaned tweet"
   ]
  },
  {
   "cell_type": "markdown",
   "id": "7ecaa9a0",
   "metadata": {},
   "source": [
    "### Model Creation and Cross validation"
   ]
  },
  {
   "cell_type": "code",
   "execution_count": 231,
   "id": "8fabd357",
   "metadata": {},
   "outputs": [
    {
     "name": "stdout",
     "output_type": "stream",
     "text": [
      "86.82 0.14\n",
      "85.24 0.84\n"
     ]
    },
    {
     "data": {
      "text/plain": [
       "1000"
      ]
     },
     "execution_count": 231,
     "metadata": {},
     "output_type": "execute_result"
    }
   ],
   "source": [
    "#Model Building Process and cross validation \n",
    "from sklearn.feature_extraction.text import TfidfVectorizer\n",
    "from sklearn.pipeline import make_pipeline, Pipeline\n",
    "from sklearn.model_selection import cross_val_score, cross_validate\n",
    "from sklearn.model_selection import StratifiedKFold\n",
    "\n",
    "\n",
    "X = df['tweets_without_stop_words']\n",
    "y = df['label']\n",
    "\n",
    "# we want to include only those words in the vocab which have min df of 5,\n",
    "# means select only those words which occur ATLEAST in 5 documents!! \n",
    "# AND SELECT the TOP 1000 FEATURES ONLY to build the model\n",
    "TFIDF = TfidfVectorizer(stop_words=final_stopwords,  min_df=5, max_features=1000)\n",
    "kfold = StratifiedKFold(n_splits=5, shuffle=True, random_state=42)\n",
    "\n",
    "LR1 = LogisticRegression(class_weight='balanced', solver='liblinear', penalty='l1', C=0.4)\n",
    "CV_pipe = Pipeline([('TFIDF', TFIDF) , ('LR', LR1)] )\n",
    "results = cross_validate(CV_pipe, X, y, cv=kfold, scoring='accuracy', return_train_score=True)\n",
    "\n",
    "# print(results['train_score'])\n",
    "print(np.round((results['train_score'].mean())*100, 2), np.round((results['train_score'].std())*100, 2)) \n",
    "\n",
    "# print(results['test_score'])\n",
    "print(np.round((results['test_score'].mean())*100, 2), np.round((results['test_score'].std())*100, 2)) \n",
    "\n",
    "TFIDF.fit_transform(X)\n",
    "len(TFIDF.vocabulary_)"
   ]
  },
  {
   "cell_type": "markdown",
   "id": "5c2e84a5",
   "metadata": {},
   "source": [
    "### Final Model for saving the model pickle file and use for predictions."
   ]
  },
  {
   "cell_type": "code",
   "execution_count": 232,
   "id": "2d4d1347",
   "metadata": {},
   "outputs": [],
   "source": [
    "import pandas as pd\n",
    "from sklearn.feature_extraction.text import TfidfVectorizer\n",
    "from sklearn.linear_model import LogisticRegression\n",
    "from sklearn.pipeline import Pipeline\n",
    "from sklearn.model_selection import train_test_split\n",
    "from sklearn.metrics import accuracy_score, classification_report\n",
    "from sklearn.ensemble import AdaBoostClassifier\n",
    "\n",
    "\n",
    "# Split the data into training and testing sets\n",
    "X_train, X_test, y_train, y_test = train_test_split(df['tweets_without_stop_words'], df['label'], test_size=0.3, random_state=42)\n",
    "\n",
    "# Define the TF-IDF vectorizer and Logistic Regression model\n",
    "tfidf_vectorizer = TfidfVectorizer( min_df=5, max_features=1000)\n",
    "logistic_regression_model = LogisticRegression(class_weight='balanced')\n",
    "\n",
    "# Create a pipeline that first transforms the data using TF-IDF and then applies Logistic Regression\n",
    "pipeline = Pipeline([\n",
    "    ('tfidf', tfidf_vectorizer),\n",
    "    ('logistic_regression', logistic_regression_model)\n",
    "])\n",
    "\n",
    "# Train the model\n",
    "pipeline.fit(X_train, y_train)\n",
    "\n",
    "# Make predictions\n",
    "predictions = pipeline.predict(X_test)\n",
    "\n",
    "# Evaluate the model\n",
    "accuracy = accuracy_score(y_test, predictions)\n",
    "report = classification_report(y_test, predictions)"
   ]
  },
  {
   "cell_type": "code",
   "execution_count": 265,
   "id": "1ae7acbb",
   "metadata": {},
   "outputs": [
    {
     "name": "stdout",
     "output_type": "stream",
     "text": [
      "accuracy : 0.8817340067340067\n"
     ]
    }
   ],
   "source": [
    "print(\"accuracy :\" , accuracy)"
   ]
  },
  {
   "cell_type": "code",
   "execution_count": 276,
   "id": "0389ed78",
   "metadata": {
    "scrolled": true
   },
   "outputs": [
    {
     "name": "stdout",
     "output_type": "stream",
     "text": [
      "#############Classification Report#############\n",
      "###############################################\n",
      "              precision    recall  f1-score   support\n",
      "\n",
      "           0       0.72      0.92      0.81       641\n",
      "           1       0.97      0.87      0.91      1735\n",
      "\n",
      "    accuracy                           0.88      2376\n",
      "   macro avg       0.84      0.89      0.86      2376\n",
      "weighted avg       0.90      0.88      0.89      2376\n",
      "\n"
     ]
    }
   ],
   "source": [
    "print(\"#############Classification Report#############\\n###############################################\")\n",
    "print(report)"
   ]
  },
  {
   "cell_type": "markdown",
   "id": "9ce6f1f2",
   "metadata": {},
   "source": []
  },
  {
   "cell_type": "markdown",
   "id": "7b6e2015",
   "metadata": {},
   "source": [
    "### Saving the model in pickle file "
   ]
  },
  {
   "cell_type": "code",
   "execution_count": null,
   "id": "6f7eae69",
   "metadata": {},
   "outputs": [],
   "source": [
    "import pickle\n",
    "\n",
    "# `pipeline` is your trained pipeline that includes the TF-IDF vectorizer and logistic regression model\n",
    "with open('models/LRmodel.pkl', 'wb') as file:\n",
    "    pickle.dump(pipeline, file)"
   ]
  },
  {
   "cell_type": "markdown",
   "id": "f5ada43d",
   "metadata": {},
   "source": [
    "###  Testing the model pickle file"
   ]
  },
  {
   "cell_type": "code",
   "execution_count": 288,
   "id": "c485dec2",
   "metadata": {},
   "outputs": [],
   "source": [
    "# Read the saved model and use it for prediction \n",
    "with open('models/LRmodel.pkl', 'rb') as file:\n",
    "    model = pickle.load(file)"
   ]
  },
  {
   "cell_type": "code",
   "execution_count": 289,
   "id": "889057e3",
   "metadata": {},
   "outputs": [
    {
     "name": "stdout",
     "output_type": "stream",
     "text": [
      "#super ? greAT feeling#$   --> super great feeling  --> 1\n"
     ]
    }
   ],
   "source": [
    "tweet_to_predict = '#super ? greAT feeling#$  '\n",
    "ts = tweet_cleaner_without_stopwords(tweet_to_predict)\n",
    "prediction = model.predict([ts])\n",
    "print(tweet_to_predict,\"-->\",ts, \"-->\",prediction[0])"
   ]
  },
  {
   "cell_type": "code",
   "execution_count": 290,
   "id": "bbc0ae4e",
   "metadata": {},
   "outputs": [
    {
     "name": "stdout",
     "output_type": "stream",
     "text": [
      "what is next apple do we have to write our apps in machine code will the only supported keyboard be the iphone is one  --> what is next apple do we have to write our apps in machine code will the only supported keyboard be the iphone is one  --> 0\n"
     ]
    }
   ],
   "source": [
    "tweet_to_predict = 'what is next apple do we have to write our apps in machine code will the only supported keyboard be the iphone is one '\n",
    "ts = tweet_cleaner_without_stopwords(tweet_to_predict)\n",
    "prediction = model.predict([ts])\n",
    "print(tweet_to_predict,\"-->\",ts, \"-->\",prediction[0])"
   ]
  },
  {
   "cell_type": "code",
   "execution_count": null,
   "id": "1e609bd3",
   "metadata": {},
   "outputs": [],
   "source": []
  },
  {
   "cell_type": "markdown",
   "id": "3c3a829d",
   "metadata": {},
   "source": [
    "The results of the models may not be very precise and correct. Since this is a basic model. \n",
    "Is is important to perform data analysis and try tuning your model in a way to get the best performance out of it before deploying it over the server. You can experiment with the same and use the model which is bests for the data and the problem statement."
   ]
  },
  {
   "cell_type": "code",
   "execution_count": null,
   "id": "edb4fa6e",
   "metadata": {},
   "outputs": [],
   "source": []
  },
  {
   "cell_type": "code",
   "execution_count": 285,
   "id": "0563062e",
   "metadata": {},
   "outputs": [],
   "source": [
    "\n",
    "#Try Using different methods and models and try comparing the results and models.\n",
    "\n",
    "# from sklearn.svm import SVC\n",
    "# from sklearn.ensemble import RandomForestClassifier\n",
    "# from sklearn.naive_bayes import MultinomialNB\n",
    "\n",
    "# # Create instances of different classification algorithms\n",
    "# svm_model = SVC(class_weight='balanced')\n",
    "# rf_model = RandomForestClassifier(class_weight='balanced')\n",
    "# nb_model = MultinomialNB()\n",
    "\n",
    "# # Create pipelines for each algorithm\n",
    "# svm_pipeline = Pipeline([\n",
    "#     ('tfidf', tfidf_vectorizer),\n",
    "#     ('svm', svm_model)\n",
    "# ])\n",
    "\n",
    "# rf_pipeline = Pipeline([\n",
    "#     ('tfidf', tfidf_vectorizer),\n",
    "#     ('random_forest', rf_model)\n",
    "# ])\n",
    "\n",
    "# nb_pipeline = Pipeline([\n",
    "#     ('tfidf', tfidf_vectorizer),\n",
    "#     ('naive_bayes', nb_model)\n",
    "# ])\n",
    "\n",
    "# # Train and evaluate each model\n",
    "# for pipeline, model_name in zip([svm_pipeline, rf_pipeline, nb_pipeline], ['SVM', 'Random Forest', 'Naive Bayes']):\n",
    "#     # Train the model\n",
    "#     pipeline.fit(X_train, y_train)\n",
    "\n",
    "#     # Make predictions\n",
    "#     predictions = pipeline.predict(X_test)\n",
    "\n",
    "#     # Evaluate the model\n",
    "#     accuracy = accuracy_score(y_test, predictions)\n",
    "#     report = classification_report(y_test, predictions)\n",
    "    \n",
    "#     # Print the classification report\n",
    "#     print(f\"Classification Report for {model_name}:\")\n",
    "#     print(report)"
   ]
  },
  {
   "cell_type": "code",
   "execution_count": null,
   "id": "10040259",
   "metadata": {},
   "outputs": [],
   "source": []
  },
  {
   "cell_type": "code",
   "execution_count": 234,
   "id": "0cbb68e5",
   "metadata": {},
   "outputs": [],
   "source": []
  },
  {
   "cell_type": "code",
   "execution_count": 235,
   "id": "a036ebd9",
   "metadata": {},
   "outputs": [],
   "source": []
  },
  {
   "cell_type": "code",
   "execution_count": 240,
   "id": "c081e60f",
   "metadata": {},
   "outputs": [],
   "source": []
  },
  {
   "cell_type": "code",
   "execution_count": 241,
   "id": "536d2628",
   "metadata": {},
   "outputs": [
    {
     "data": {
      "text/plain": [
       "0"
      ]
     },
     "execution_count": 241,
     "metadata": {},
     "output_type": "execute_result"
    }
   ],
   "source": [
    "prediction[0]"
   ]
  },
  {
   "cell_type": "code",
   "execution_count": null,
   "id": "1b83d572",
   "metadata": {},
   "outputs": [],
   "source": []
  }
 ],
 "metadata": {
  "kernelspec": {
   "display_name": "Python 3 (ipykernel)",
   "language": "python",
   "name": "python3"
  },
  "language_info": {
   "codemirror_mode": {
    "name": "ipython",
    "version": 3
   },
   "file_extension": ".py",
   "mimetype": "text/x-python",
   "name": "python",
   "nbconvert_exporter": "python",
   "pygments_lexer": "ipython3",
   "version": "3.11.5"
  }
 },
 "nbformat": 4,
 "nbformat_minor": 5
}
